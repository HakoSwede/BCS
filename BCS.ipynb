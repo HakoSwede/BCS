{
 "cells": [
  {
   "cell_type": "code",
   "execution_count": 11,
   "metadata": {
    "collapsed": true
   },
   "outputs": [],
   "source": [
    "import numpy as np\n",
    "import pandas as pd\n",
    "import matplotlib.pyplot as plt\n",
    "%matplotlib inline\n",
    "import seaborn as sns\n",
    "sns.set()\n",
    "\n",
    "STARTING_CASH = 100000\n",
    "ALLOWED_DRIFT = 0.05\n",
    "\n",
    "returns_df = pd.read_csv('C:/Users/Tiger/PycharmProjects/BettermentCaseStudy/portfolio_returns.csv', index_col=0, parse_dates=True)\n",
    "tickers = returns_df.columns\n",
    "dates = returns_df.index\n",
    "initial_weights = pd.DataFrame(dict(zip(tickers,[0.25,0.25,0.125,0.125,0.04,0.035,0.125,0.05])),index=[dates[0]])"
   ]
  },
  {
   "cell_type": "code",
   "execution_count": 12,
   "metadata": {},
   "outputs": [],
   "source": [
    "# NON REBALANCED PORTFOLIO\n",
    "cum_returns_df = (returns_df+1).cumprod()\n",
    "non_rebalance_df = (cum_returns_df * STARTING_CASH) *  initial_weights.values[0]\n",
    "non_rebalance_df_alloc = (non_rebalance_df.div(non_rebalance_df.sum(axis=1), axis = 0))\n",
    "\n",
    "non_rebalance_df_alloc.plot(figsize=(16,8))\n",
    "#non_rebalance_df.sum(axis=1).plot(figsize=(16,8))\n",
    "plt.show()\n"
   ]
  },
  {
   "cell_type": "code",
   "execution_count": null,
   "metadata": {},
   "outputs": [],
   "source": []
  }
 ],
 "metadata": {
  "kernelspec": {
   "display_name": "Python 2",
   "language": "python",
   "name": "python2"
  },
  "language_info": {
   "codemirror_mode": {
    "name": "ipython",
    "version": 2
   },
   "file_extension": ".py",
   "mimetype": "text/x-python",
   "name": "python",
   "nbconvert_exporter": "python",
   "pygments_lexer": "ipython2",
   "version": "2.7.6"
  }
 },
 "nbformat": 4,
 "nbformat_minor": 0
}
