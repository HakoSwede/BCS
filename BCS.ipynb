{
 "cells": [
  {
   "cell_type": "code",
   "execution_count": null,
   "metadata": {},
   "outputs": [],
   "source": [
    "import numpy as np\n",
    "import pandas as pd\n",
    "import matplotlib.pyplot as plt\n",
    "import seaborn as sns\n",
    "sns.set()\n",
    "sns.set_palette(sns.color_palette('Blues_r',8))\n",
    "from functools import partial\n",
    "\n",
    "STARTING_CASH = 100000\n",
    "ALLOWED_DRIFT = 0.05\n",
    "MINKOWSKI_P = 2\n",
    "relative_path = 'C:/Users/Tiger/PycharmProjects/BettermentCaseStudy'\n",
    "\n",
    "returns_df = pd.read_csv(relative_path + '/portfolio_returns.csv', index_col=0, parse_dates=True)\n",
    "tickers = returns_df.columns\n",
    "dates = returns_df.index\n",
    "initial_weights = pd.DataFrame(dict(zip(tickers, [0.25, 0.25, 0.125, 0.125, 0.04, 0.035, 0.125, 0.05])), index=[dates[0]])"
   ]
  },
  {
   "cell_type": "code",
   "execution_count": 79,
   "metadata": {},
   "outputs": [],
   "source": [
    "def minkowski_distance(arr_1, arr_2, p):\n",
    "    return sum(abs(arr_1 - arr_2)**p)**(1/p)\n",
    "\n",
    "minkowski = partial(minkowski_distance, arr_2 = initial_weights.values[0], p = MINKOWSKI_P)"
   ]
  },
  {
   "cell_type": "code",
   "execution_count": 80,
   "metadata": {},
   "outputs": [],
   "source": [
    "# NON REBALANCED PORTFOLIO\n",
    "cum_returns_df = (returns_df+1).cumprod()\n",
    "non_rebalance_df = (cum_returns_df * STARTING_CASH) * initial_weights.values[0]\n",
    "non_rebalance_df_alloc = (non_rebalance_df.div(non_rebalance_df.sum(axis=1), axis = 0))\n",
    "non_rebalance_df_returns = non_rebalance_df.sum(axis=1).pct_change(1)\n",
    "\n",
    "# REBALANCED PORTFOLIO\n",
    "rebalance_df = non_rebalance_df.copy()\n",
    "rebalance_df_alloc = non_rebalance_df_alloc.copy()\n",
    "\n",
    "for date in dates[1:]:\n",
    "    if minkowski(rebalance_df_alloc.loc[date]) > ALLOWED_DRIFT:\n",
    "        rebalance_df.loc[date] = sum(rebalance_df.shift(1).loc[date] * (1 + returns_df.loc[date])) * initial_weights.values[0]\n",
    "    else:\n",
    "        rebalance_df.loc[date] = rebalance_df.shift(1).loc[date] * (1 + returns_df.loc[date])\n",
    "    rebalance_df_alloc.loc[date] = (rebalance_df.loc[date].div(rebalance_df.loc[date].sum(), axis = 0))\n",
    "\n",
    "rebalance_df_returns = rebalance_df.sum(axis=1).pct_change(1)"
   ]
  },
  {
   "cell_type": "code",
   "execution_count": 82,
   "metadata": {
    "scrolled": true
   },
   "outputs": [],
   "source": [
    "# MAKE AND SAVE PLOTS\n",
    "\n",
    "# DAILY RETURNS\n",
    "non_rebalance_df_returns.plot(figsize = (12,6), title = 'Daily returns of non-rebalanced portfolio',label='Daily returns')\n",
    "plt.legend(bbox_to_anchor=(1, 1))\n",
    "plt.savefig('non_rebalance_daily_returns.png')\n",
    "plt.gcf().clear()\n",
    "plt.close()\n",
    "\n",
    "rebalance_df_returns.plot(figsize = (12,6), title = 'Daily returns of rebalanced portfolio',label='Daily returns')\n",
    "plt.legend(bbox_to_anchor=(1, 1))\n",
    "plt.savefig('rebalance_daily_returns.png')\n",
    "plt.gcf().clear()\n",
    "plt.close()\n",
    "\n",
    "# WEIGHT OF ASSETS\n",
    "non_rebalance_df_alloc.plot(figsize = (12,6), title = 'Weight of portfolio assets of non-rebalanced portfolio', kind = 'area',ylim=(0,1))\n",
    "plt.legend(bbox_to_anchor=(1, 1))\n",
    "plt.savefig('non_rebalance_weight')\n",
    "plt.gcf().clear()\n",
    "plt.close()\n",
    "\n",
    "rebalance_df_alloc.plot(figsize = (12,6), title = 'Weight of portfolio assets of rebalanced portfolio', kind = 'area',ylim=(0,1))\n",
    "plt.legend(bbox_to_anchor=(1, 1))\n",
    "plt.savefig('rebalance_weight')\n",
    "plt.gcf().clear()\n",
    "plt.close()\n",
    "\n",
    "# PORTFOLIO RETURNS\n",
    "non_rebalance_df.sum(axis=1).plot(figsize = (12,6), title = 'Value of portfolio', label = 'Value of portfolio')\n",
    "plt.legend(bbox_to_anchor=(1, 1))\n",
    "plt.savefig('non_rebalance_value')\n",
    "plt.gcf().clear()\n",
    "plt.close()\n",
    "\n",
    "rebalance_df.sum(axis=1).plot(figsize = (12,6), title = 'Value of portfolio', label = 'Value of portfolio')\n",
    "plt.legend(bbox_to_anchor=(1, 1))\n",
    "plt.savefig('rebalance_value')\n",
    "plt.gcf().clear()\n",
    "plt.close()"
   ]
  },
  {
   "cell_type": "code",
   "execution_count": null,
   "metadata": {},
   "outputs": [],
   "source": []
  },
  {
   "cell_type": "code",
   "execution_count": null,
   "metadata": {
    "collapsed": true
   },
   "outputs": [],
   "source": []
  }
 ],
 "metadata": {
  "kernelspec": {
   "display_name": "Python 3",
   "language": "python",
   "name": "python3"
  },
  "language_info": {
   "codemirror_mode": {
    "name": "ipython",
    "version": 3
   },
   "file_extension": ".py",
   "mimetype": "text/x-python",
   "name": "python",
   "nbconvert_exporter": "python",
   "pygments_lexer": "ipython3",
   "version": "3.6.3"
  }
 },
 "nbformat": 4,
 "nbformat_minor": 1
}
